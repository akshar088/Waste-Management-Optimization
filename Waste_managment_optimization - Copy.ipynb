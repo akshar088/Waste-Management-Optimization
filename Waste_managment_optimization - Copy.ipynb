{
  "nbformat": 4,
  "nbformat_minor": 0,
  "metadata": {
    "colab": {
      "provenance": []
    },
    "kernelspec": {
      "name": "python3",
      "display_name": "Python 3"
    },
    "language_info": {
      "name": "python"
    }
  },
  "cells": [
    {
      "cell_type": "markdown",
      "source": [
        "#Importing Libraries"
      ],
      "metadata": {
        "id": "QEB26NLqhzfU"
      }
    },
    {
      "cell_type": "code",
      "source": [
        "import pandas as pd\n",
        "import numpy as np\n",
        "import matplotlib.pyplot as plt\n",
        "import random\n",
        "from datetime import datetime, timedelta"
      ],
      "metadata": {
        "id": "C7adlubYh2jU"
      },
      "execution_count": 35,
      "outputs": []
    },
    {
      "cell_type": "markdown",
      "source": [
        "#GPS Data\n",
        "\n",
        "\n"
      ],
      "metadata": {
        "id": "ICtUjuE0iGV-"
      }
    },
    {
      "cell_type": "code",
      "source": [
        "def gps_data(num_records):\n",
        "    data = []\n",
        "    start_time = datetime(2024, 5, 30, 8, 0)\n",
        "    for i in range(num_records):\n",
        "        record = {\n",
        "            'date': start_time.strftime('%Y-%m-%d'),\n",
        "            'time': (start_time + timedelta(minutes=i*10)).strftime('%H:%M'),\n",
        "            'truck_id': f'TRK{random.randint(1, 5):02}',\n",
        "            'latitude': 40.712776 + random.uniform(-0.01, 0.01),\n",
        "            'longitude': -74.005974 + random.uniform(-0.01, 0.01),\n",
        "            'speed': random.randint(20, 35),\n",
        "            'route_id': f'R{random.randint(1, 3)}'\n",
        "        }\n",
        "        data.append(record)\n",
        "    return pd.DataFrame(data)"
      ],
      "metadata": {
        "id": "QSL0_85SiK7X"
      },
      "execution_count": 24,
      "outputs": []
    },
    {
      "cell_type": "markdown",
      "source": [
        "\n",
        "#Historical Waste Collection Data"
      ],
      "metadata": {
        "id": "uQL92KJBjBiP"
      }
    },
    {
      "cell_type": "code",
      "source": [
        "def waste_collection_data(num_records):\n",
        "    waste_types = ['General', 'Recyclable', 'Organic']\n",
        "    data = []\n",
        "    start_time = datetime(2024, 5, 30, 8, 0)\n",
        "    for i in range(num_records):\n",
        "        record = {\n",
        "            'date': start_time.strftime('%Y-%m-%d'),\n",
        "            'time': (start_time + timedelta(minutes=i*10)).strftime('%H:%M'),\n",
        "            'bin_id': f'BIN{random.randint(1, 50):02}',\n",
        "            'amount_collected': random.uniform(5, 20),\n",
        "            'type_of_waste': random.choice(waste_types)\n",
        "        }\n",
        "        data.append(record)\n",
        "    return pd.DataFrame(data)"
      ],
      "metadata": {
        "id": "I8ILG8-DjCzv"
      },
      "execution_count": 25,
      "outputs": []
    },
    {
      "cell_type": "markdown",
      "source": [
        "#Demographic and Geographic Data"
      ],
      "metadata": {
        "id": "mjVMHCZkjGKf"
      }
    },
    {
      "cell_type": "code",
      "source": [
        "def demographic_data(num_records):\n",
        "    area_types = ['Residential', 'Commercial', 'Industrial']\n",
        "    socio_economic_status = ['Low', 'Medium', 'High']\n",
        "    data = []\n",
        "    for i in range(num_records):\n",
        "        record = {\n",
        "            'area_id': f'A{i+1}',\n",
        "            'population_density': random.randint(1000, 5000),\n",
        "            'area_type': random.choice(area_types),\n",
        "            'socio_economic_status': random.choice(socio_economic_status)\n",
        "        }\n",
        "        data.append(record)\n",
        "    return pd.DataFrame(data)"
      ],
      "metadata": {
        "id": "45t-5fb_jJXP"
      },
      "execution_count": 26,
      "outputs": []
    },
    {
      "cell_type": "markdown",
      "source": [
        "#IoT-enabled Waste Bin Data"
      ],
      "metadata": {
        "id": "jSZTTYS7jQEk"
      }
    },
    {
      "cell_type": "code",
      "source": [
        "def iot_bin_data(num_records):\n",
        "    waste_types = ['General', 'Recyclable', 'Organic']\n",
        "    data = []\n",
        "    start_time = datetime(2024, 5, 30, 8, 0)\n",
        "    for i in range(num_records):\n",
        "        record = {\n",
        "            'date': start_time.strftime('%Y-%m-%d'),\n",
        "            'time': (start_time + timedelta(minutes=i*10)).strftime('%H:%M'),\n",
        "            'bin_id': f'BIN{random.randint(1, 50):02}',\n",
        "            'fill_level': random.uniform(0, 100),\n",
        "            'type_of_waste': random.choice(waste_types)\n",
        "        }\n",
        "        data.append(record)\n",
        "    return pd.DataFrame(data)"
      ],
      "metadata": {
        "id": "pUAxG3rnjUbR"
      },
      "execution_count": 27,
      "outputs": []
    },
    {
      "cell_type": "markdown",
      "source": [
        "#Weather Data"
      ],
      "metadata": {
        "id": "DbP8pVGjjWl7"
      }
    },
    {
      "cell_type": "code",
      "source": [
        "def weather_data(num_records):\n",
        "    weather_conditions = ['Clear', 'Rain', 'Snow', 'Cloudy']\n",
        "    data = []\n",
        "    start_time = datetime(2024, 5, 30, 8, 0)\n",
        "    for i in range(num_records):\n",
        "        record = {\n",
        "            'date': start_time.strftime('%Y-%m-%d'),\n",
        "            'time': (start_time + timedelta(minutes=i*10)).strftime('%H:%M'),\n",
        "            'temperature': random.uniform(15, 30),\n",
        "            'precipitation': random.uniform(0, 5),\n",
        "            'weather_condition': random.choice(weather_conditions)\n",
        "        }\n",
        "        data.append(record)\n",
        "    return pd.DataFrame(data)"
      ],
      "metadata": {
        "id": "e_-DE4GrjYna"
      },
      "execution_count": 28,
      "outputs": []
    },
    {
      "cell_type": "markdown",
      "source": [
        "#Recycling Data"
      ],
      "metadata": {
        "id": "GR5GEXHrjbCg"
      }
    },
    {
      "cell_type": "code",
      "source": [
        "def recycling_data(num_records):\n",
        "    data = []\n",
        "    start_time = datetime(2024, 5, 30, 8, 0)\n",
        "    for i in range(num_records):\n",
        "        record = {\n",
        "            'date': start_time.strftime('%Y-%m-%d'),\n",
        "            'time': (start_time + timedelta(minutes=i*10)).strftime('%H:%M'),\n",
        "            'amount_collected': random.uniform(5, 20),\n",
        "            'contamination_level': random.uniform(0, 10)\n",
        "        }\n",
        "        data.append(record)\n",
        "    return pd.DataFrame(data)"
      ],
      "metadata": {
        "id": "geRXIKIIjego"
      },
      "execution_count": 29,
      "outputs": []
    },
    {
      "cell_type": "markdown",
      "source": [
        "# Number of records for each dataset"
      ],
      "metadata": {
        "id": "_teLpweCjhNI"
      }
    },
    {
      "cell_type": "code",
      "source": [
        "num_records = 100"
      ],
      "metadata": {
        "id": "1Yb8venojjxB"
      },
      "execution_count": 30,
      "outputs": []
    },
    {
      "cell_type": "markdown",
      "source": [
        "#Datasets"
      ],
      "metadata": {
        "id": "4AM1INvdjlh3"
      }
    },
    {
      "cell_type": "code",
      "source": [
        "gps_data = gps_data(num_records)\n",
        "waste_collection_data = waste_collection_data(num_records)\n",
        "demographic_data = demographic_data(10)\n",
        "iot_bin_data = iot_bin_data(num_records)\n",
        "weather_data = weather_data(num_records)\n",
        "recycling_data = recycling_data(num_records)"
      ],
      "metadata": {
        "id": "DfKq0pHfjoBI"
      },
      "execution_count": 31,
      "outputs": []
    },
    {
      "cell_type": "markdown",
      "source": [
        "# Save datasets to CSV files"
      ],
      "metadata": {
        "id": "4uHGu25EjwsA"
      }
    },
    {
      "cell_type": "code",
      "source": [
        "gps_data.to_csv('gps_data.csv', index=False)\n",
        "waste_collection_data.to_csv('waste_collection_data.csv', index=False)\n",
        "demographic_data.to_csv('demographic_data.csv', index=False)\n",
        "iot_bin_data.to_csv('iot_bin_data.csv', index=False)\n",
        "weather_data.to_csv('weather_data.csv', index=False)\n",
        "recycling_data.to_csv('recycling_data.csv', index=False)"
      ],
      "metadata": {
        "id": "4TqnpzY3jzBf"
      },
      "execution_count": 32,
      "outputs": []
    },
    {
      "cell_type": "markdown",
      "source": [
        "#Loading Datasets"
      ],
      "metadata": {
        "id": "2464Na-0myXF"
      }
    },
    {
      "cell_type": "code",
      "source": [
        "import pandas as pd\n",
        "\n",
        "# Load datasets\n",
        "gps_data = pd.read_csv('gps_data.csv')\n",
        "waste_collection_data = pd.read_csv('waste_collection_data.csv')\n",
        "demographic_data = pd.read_csv('demographic_data.csv')\n",
        "iot_bin_data = pd.read_csv('iot_bin_data.csv')\n",
        "weather_data = pd.read_csv('weather_data.csv')\n",
        "recycling_data = pd.read_csv('recycling_data.csv')\n",
        "\n",
        "# Display the first few rows of each dataset\n",
        "print(\"GPS Data\")\n",
        "print(gps_data.head())\n",
        "\n",
        "print(\"\\nWaste Collection Data\")\n",
        "print(waste_collection_data.head())\n",
        "\n",
        "print(\"\\nDemographic Data\")\n",
        "print(demographic_data.head())\n",
        "\n",
        "print(\"\\nIoT Bin Data\")\n",
        "print(iot_bin_data.head())\n",
        "\n",
        "print(\"\\nWeather Data\")\n",
        "print(weather_data.head())\n",
        "\n",
        "print(\"\\nRecycling Data\")\n",
        "print(recycling_data.head())\n",
        "\n",
        "# Get summary statistics for each dataset\n",
        "print(\"\\nGPS Data Summary\")\n",
        "print(gps_data.describe())\n",
        "\n",
        "print(\"\\nWaste Collection Data Summary\")\n",
        "print(waste_collection_data.describe())\n",
        "\n",
        "print(\"\\nDemographic Data Summary\")\n",
        "print(demographic_data.describe())\n",
        "\n",
        "print(\"\\nIoT Bin Data Summary\")\n",
        "print(iot_bin_data.describe())\n",
        "\n",
        "print(\"\\nWeather Data Summary\")\n",
        "print(weather_data.describe())\n",
        "\n",
        "print(\"\\nRecycling Data Summary\")\n",
        "print(recycling_data.describe())\n",
        "\n",
        "# Check data types\n",
        "print(\"\\nGPS Data Types\")\n",
        "print(gps_data.dtypes)\n",
        "\n",
        "print(\"\\nWaste Collection Data Types\")\n",
        "print(waste_collection_data.dtypes)\n",
        "\n",
        "print(\"\\nDemographic Data Types\")\n",
        "print(demographic_data.dtypes)\n",
        "\n",
        "print(\"\\nIoT Bin Data Types\")\n",
        "print(iot_bin_data.dtypes)\n",
        "\n",
        "print(\"\\nWeather Data Types\")\n",
        "print(weather_data.dtypes)\n",
        "\n",
        "print(\"\\nRecycling Data Types\")\n",
        "print(recycling_data.dtypes)\n",
        "\n",
        "# Check for missing values\n",
        "print(\"\\nGPS Data Missing Values\")\n",
        "print(gps_data.isnull().sum())\n",
        "\n",
        "print(\"\\nWaste Collection Data Missing Values\")\n",
        "print(waste_collection_data.isnull().sum())\n",
        "\n",
        "print(\"\\nDemographic Data Missing Values\")\n",
        "print(demographic_data.isnull().sum())\n",
        "\n",
        "print(\"\\nIoT Bin Data Missing Values\")\n",
        "print(iot_bin_data.isnull().sum())\n",
        "\n",
        "print(\"\\nWeather Data Missing Values\")\n",
        "print(weather_data.isnull().sum())\n",
        "\n",
        "print(\"\\nRecycling Data Missing Values\")\n",
        "print(recycling_data.isnull().sum())\n"
      ],
      "metadata": {
        "id": "jKeD5nxCkdhv"
      },
      "execution_count": null,
      "outputs": []
    },
    {
      "cell_type": "markdown",
      "source": [
        "#Outputs"
      ],
      "metadata": {
        "id": "7YWQxp-yneGC"
      }
    },
    {
      "cell_type": "code",
      "source": [
        "# Plot latitude and longitude\n",
        "plt.figure(figsize=(10, 6))\n",
        "plt.scatter(gps_data['longitude'], gps_data['latitude'], c='blue', alpha=0.5, marker='o')\n",
        "plt.title('GPS Data - Truck Routes')\n",
        "plt.xlabel('Longitude')\n",
        "plt.ylabel('Latitude')\n",
        "plt.grid(True)\n",
        "plt.show()\n",
        "\n",
        "# Plot histogram of waste collection amounts\n",
        "plt.figure(figsize=(10, 6))\n",
        "plt.hist(waste_collection_data['amount_collected'], bins=20, color='green', alpha=0.7)\n",
        "plt.title('Waste Collection Amounts')\n",
        "plt.xlabel('Amount Collected (kg)')\n",
        "plt.ylabel('Frequency')\n",
        "plt.grid(True)\n",
        "plt.show()\n",
        "\n",
        "# Plot population density\n",
        "plt.figure(figsize=(10, 6))\n",
        "plt.hist(demographic_data['population_density'], bins=20, color='orange', alpha=0.7)\n",
        "plt.title('Population Density')\n",
        "plt.xlabel('Population Density')\n",
        "plt.ylabel('Frequency')\n",
        "plt.grid(True)\n",
        "plt.show()\n",
        "\n",
        "# Plot fill level of waste bins\n",
        "plt.figure(figsize=(10, 6))\n",
        "plt.hist(iot_bin_data['fill_level'], bins=20, color='purple', alpha=0.7)\n",
        "plt.title('Fill Level of Waste Bins')\n",
        "plt.xlabel('Fill Level (%)')\n",
        "plt.ylabel('Frequency')\n",
        "plt.grid(True)\n",
        "plt.show()\n",
        "\n",
        "# Plot temperature over time\n",
        "plt.figure(figsize=(10, 6))\n",
        "plt.plot(weather_data['date'], weather_data['temperature'], color='red')\n",
        "plt.title('Temperature Over Time')\n",
        "plt.xlabel('Date')\n",
        "plt.ylabel('Temperature (°C)')\n",
        "plt.grid(True)\n",
        "plt.show()\n",
        "\n",
        "# Plot recycling amount and contamination level\n",
        "fig, ax1 = plt.subplots(figsize=(10, 6))\n",
        "\n",
        "color = 'tab:red'\n",
        "ax1.set_xlabel('Date')\n",
        "ax1.set_ylabel('Recycling Amount', color=color)\n",
        "ax1.plot(recycling_data['date'], recycling_data['amount_collected'], color=color)\n",
        "ax1.tick_params(axis='y', labelcolor=color)\n",
        "\n",
        "ax2 = ax1.twinx()\n",
        "color = 'tab:blue'\n",
        "ax2.set_ylabel('Contamination Level', color=color)\n",
        "ax2.plot(recycling_data['date'], recycling_data['contamination_level'], color=color)\n",
        "ax2.tick_params(axis='y', labelcolor=color)\n",
        "\n",
        "fig.tight_layout()\n",
        "plt.title('Recycling Amount and Contamination Level Over Time')\n",
        "plt.show()"
      ],
      "metadata": {
        "id": "isQdHWp6nhrt"
      },
      "execution_count": null,
      "outputs": []
    }
  ]
}